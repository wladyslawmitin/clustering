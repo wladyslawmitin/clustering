{
 "cells": [
  {
   "cell_type": "markdown",
   "id": "11620745",
   "metadata": {},
   "source": [
    "# Кластеризация bank"
   ]
  },
  {
   "cell_type": "markdown",
   "id": "723dd6c2",
   "metadata": {},
   "source": [
    "### Подготовка данных"
   ]
  },
  {
   "cell_type": "code",
   "execution_count": 2,
   "id": "f7cbcd14",
   "metadata": {},
   "outputs": [],
   "source": [
    "import numpy as np\n",
    "import pandas as pd\n",
    "import matplotlib\n",
    "import matplotlib.pyplot as plt\n",
    "import seaborn as sns\n",
    "import scipy \n",
    "import os"
   ]
  },
  {
   "cell_type": "code",
   "execution_count": 3,
   "id": "703820d4",
   "metadata": {},
   "outputs": [],
   "source": [
    "# Устанавливаем рабочую дирректорию\n",
    "os.chdir(r\"C:\\Users\\whati\\OneDrive\\Рабочий стол\\Jup\\Projects_Analytics\\clusters\")"
   ]
  },
  {
   "cell_type": "code",
   "execution_count": 106,
   "id": "7cb66dbc",
   "metadata": {},
   "outputs": [
    {
     "data": {
      "text/plain": [
       "1603.1683417085428"
      ]
     },
     "execution_count": 106,
     "metadata": {},
     "output_type": "execute_result"
    }
   ],
   "source": [
    "# Импорт данных\n",
    "df = pd.read_csv(\"bank.csv\", sep=\";\",  decimal=\",\") \n",
    "df['age'].mean()\n",
    "df['balance'].mean()"
   ]
  },
  {
   "cell_type": "code",
   "execution_count": 5,
   "id": "8bd83fc9",
   "metadata": {},
   "outputs": [
    {
     "data": {
      "text/html": [
       "<div>\n",
       "<style scoped>\n",
       "    .dataframe tbody tr th:only-of-type {\n",
       "        vertical-align: middle;\n",
       "    }\n",
       "\n",
       "    .dataframe tbody tr th {\n",
       "        vertical-align: top;\n",
       "    }\n",
       "\n",
       "    .dataframe thead th {\n",
       "        text-align: right;\n",
       "    }\n",
       "</style>\n",
       "<table border=\"1\" class=\"dataframe\">\n",
       "  <thead>\n",
       "    <tr style=\"text-align: right;\">\n",
       "      <th></th>\n",
       "      <th>age</th>\n",
       "      <th>job</th>\n",
       "      <th>marital</th>\n",
       "      <th>education</th>\n",
       "      <th>default</th>\n",
       "      <th>balance</th>\n",
       "      <th>housing</th>\n",
       "      <th>loan</th>\n",
       "      <th>y</th>\n",
       "    </tr>\n",
       "  </thead>\n",
       "  <tbody>\n",
       "    <tr>\n",
       "      <th>0</th>\n",
       "      <td>30</td>\n",
       "      <td>unemployed</td>\n",
       "      <td>married</td>\n",
       "      <td>primary</td>\n",
       "      <td>no</td>\n",
       "      <td>1787</td>\n",
       "      <td>no</td>\n",
       "      <td>no</td>\n",
       "      <td>no</td>\n",
       "    </tr>\n",
       "    <tr>\n",
       "      <th>1</th>\n",
       "      <td>33</td>\n",
       "      <td>services</td>\n",
       "      <td>married</td>\n",
       "      <td>secondary</td>\n",
       "      <td>no</td>\n",
       "      <td>4789</td>\n",
       "      <td>yes</td>\n",
       "      <td>yes</td>\n",
       "      <td>no</td>\n",
       "    </tr>\n",
       "    <tr>\n",
       "      <th>2</th>\n",
       "      <td>35</td>\n",
       "      <td>management</td>\n",
       "      <td>single</td>\n",
       "      <td>tertiary</td>\n",
       "      <td>no</td>\n",
       "      <td>1350</td>\n",
       "      <td>yes</td>\n",
       "      <td>no</td>\n",
       "      <td>no</td>\n",
       "    </tr>\n",
       "    <tr>\n",
       "      <th>3</th>\n",
       "      <td>30</td>\n",
       "      <td>management</td>\n",
       "      <td>married</td>\n",
       "      <td>tertiary</td>\n",
       "      <td>no</td>\n",
       "      <td>1476</td>\n",
       "      <td>yes</td>\n",
       "      <td>yes</td>\n",
       "      <td>no</td>\n",
       "    </tr>\n",
       "    <tr>\n",
       "      <th>4</th>\n",
       "      <td>59</td>\n",
       "      <td>blue-collar</td>\n",
       "      <td>married</td>\n",
       "      <td>secondary</td>\n",
       "      <td>no</td>\n",
       "      <td>0</td>\n",
       "      <td>yes</td>\n",
       "      <td>no</td>\n",
       "      <td>no</td>\n",
       "    </tr>\n",
       "  </tbody>\n",
       "</table>\n",
       "</div>"
      ],
      "text/plain": [
       "   age          job  marital  education default  balance housing loan   y\n",
       "0   30   unemployed  married    primary      no     1787      no   no  no\n",
       "1   33     services  married  secondary      no     4789     yes  yes  no\n",
       "2   35   management   single   tertiary      no     1350     yes   no  no\n",
       "3   30   management  married   tertiary      no     1476     yes  yes  no\n",
       "4   59  blue-collar  married  secondary      no        0     yes   no  no"
      ]
     },
     "execution_count": 5,
     "metadata": {},
     "output_type": "execute_result"
    }
   ],
   "source": [
    "df.head()"
   ]
  },
  {
   "cell_type": "code",
   "execution_count": 6,
   "id": "305c59c0",
   "metadata": {},
   "outputs": [],
   "source": [
    "# Удаляем NA строки если такие есть\n",
    "df = df.dropna() "
   ]
  },
  {
   "cell_type": "code",
   "execution_count": 7,
   "id": "f9084fa8",
   "metadata": {
    "scrolled": true
   },
   "outputs": [
    {
     "data": {
      "text/html": [
       "<div>\n",
       "<style scoped>\n",
       "    .dataframe tbody tr th:only-of-type {\n",
       "        vertical-align: middle;\n",
       "    }\n",
       "\n",
       "    .dataframe tbody tr th {\n",
       "        vertical-align: top;\n",
       "    }\n",
       "\n",
       "    .dataframe thead th {\n",
       "        text-align: right;\n",
       "    }\n",
       "</style>\n",
       "<table border=\"1\" class=\"dataframe\">\n",
       "  <thead>\n",
       "    <tr style=\"text-align: right;\">\n",
       "      <th></th>\n",
       "      <th>age</th>\n",
       "      <th>balance</th>\n",
       "    </tr>\n",
       "  </thead>\n",
       "  <tbody>\n",
       "    <tr>\n",
       "      <th>count</th>\n",
       "      <td>398.000000</td>\n",
       "      <td>398.000000</td>\n",
       "    </tr>\n",
       "    <tr>\n",
       "      <th>mean</th>\n",
       "      <td>40.625628</td>\n",
       "      <td>1603.168342</td>\n",
       "    </tr>\n",
       "    <tr>\n",
       "      <th>std</th>\n",
       "      <td>10.290151</td>\n",
       "      <td>3006.880560</td>\n",
       "    </tr>\n",
       "    <tr>\n",
       "      <th>min</th>\n",
       "      <td>20.000000</td>\n",
       "      <td>-1680.000000</td>\n",
       "    </tr>\n",
       "    <tr>\n",
       "      <th>25%</th>\n",
       "      <td>33.000000</td>\n",
       "      <td>90.000000</td>\n",
       "    </tr>\n",
       "    <tr>\n",
       "      <th>50%</th>\n",
       "      <td>38.000000</td>\n",
       "      <td>462.000000</td>\n",
       "    </tr>\n",
       "    <tr>\n",
       "      <th>75%</th>\n",
       "      <td>48.000000</td>\n",
       "      <td>1789.250000</td>\n",
       "    </tr>\n",
       "    <tr>\n",
       "      <th>max</th>\n",
       "      <td>78.000000</td>\n",
       "      <td>26965.000000</td>\n",
       "    </tr>\n",
       "  </tbody>\n",
       "</table>\n",
       "</div>"
      ],
      "text/plain": [
       "              age       balance\n",
       "count  398.000000    398.000000\n",
       "mean    40.625628   1603.168342\n",
       "std     10.290151   3006.880560\n",
       "min     20.000000  -1680.000000\n",
       "25%     33.000000     90.000000\n",
       "50%     38.000000    462.000000\n",
       "75%     48.000000   1789.250000\n",
       "max     78.000000  26965.000000"
      ]
     },
     "execution_count": 7,
     "metadata": {},
     "output_type": "execute_result"
    }
   ],
   "source": [
    "# Выводим сводную статистику по набору данных (только количественные признаки)\n",
    "df.describe() "
   ]
  },
  {
   "cell_type": "code",
   "execution_count": 8,
   "id": "0fdcd98a",
   "metadata": {
    "scrolled": false
   },
   "outputs": [
    {
     "data": {
      "text/plain": [
       "array([[<AxesSubplot:xlabel='age', ylabel='age'>,\n",
       "        <AxesSubplot:xlabel='balance', ylabel='age'>],\n",
       "       [<AxesSubplot:xlabel='age', ylabel='balance'>,\n",
       "        <AxesSubplot:xlabel='balance', ylabel='balance'>]], dtype=object)"
      ]
     },
     "execution_count": 8,
     "metadata": {},
     "output_type": "execute_result"
    },
    {
     "data": {
      "image/png": "[encoded data removed]",
      "text/plain": [
       "<Figure size 720x720 with 4 Axes>"
      ]
     },
     "metadata": {
      "needs_background": "light"
     },
     "output_type": "display_data"
    }
   ],
   "source": [
    "pd.plotting.scatter_matrix(df, figsize=(10, 10))"
   ]
  },
  {
   "cell_type": "markdown",
   "id": "e29423ad",
   "metadata": {},
   "source": [
    "Из-за разности в диапазонах значений, очевидно, что нам необходимо стандартизировать количественные признаки"
   ]
  },
  {
   "cell_type": "markdown",
   "id": "a9a161f5",
   "metadata": {},
   "source": [
    "## Стандартизация"
   ]
  },
  {
   "cell_type": "code",
   "execution_count": 9,
   "id": "e0788710",
   "metadata": {},
   "outputs": [],
   "source": [
    "from sklearn import preprocessing"
   ]
  },
  {
   "cell_type": "code",
   "execution_count": 10,
   "id": "1ec430f1",
   "metadata": {},
   "outputs": [],
   "source": [
    "# Стандартизируем количественные признаки (В интервале 0,1)\n",
    "scaler = preprocessing.MinMaxScaler() \n",
    "scaled_columns = scaler.fit_transform(df[['age', 'balance']])"
   ]
  },
  {
   "cell_type": "code",
   "execution_count": 11,
   "id": "1624bf5d",
   "metadata": {},
   "outputs": [],
   "source": [
    "# Создаем копию df\n",
    "df_scaled = df.copy()"
   ]
  },
  {
   "cell_type": "code",
   "execution_count": 12,
   "id": "7c9582fc",
   "metadata": {},
   "outputs": [],
   "source": [
    "# Преобразуем стандартизированные колонки обратно в датафрейм\n",
    "scaled_age_head = pd.DataFrame(scaled_columns, columns=['age', 'balance'])"
   ]
  },
  {
   "cell_type": "code",
   "execution_count": 13,
   "id": "8eb700a3",
   "metadata": {
    "scrolled": true
   },
   "outputs": [
    {
     "data": {
      "text/html": [
       "<div>\n",
       "<style scoped>\n",
       "    .dataframe tbody tr th:only-of-type {\n",
       "        vertical-align: middle;\n",
       "    }\n",
       "\n",
       "    .dataframe tbody tr th {\n",
       "        vertical-align: top;\n",
       "    }\n",
       "\n",
       "    .dataframe thead th {\n",
       "        text-align: right;\n",
       "    }\n",
       "</style>\n",
       "<table border=\"1\" class=\"dataframe\">\n",
       "  <thead>\n",
       "    <tr style=\"text-align: right;\">\n",
       "      <th></th>\n",
       "      <th>age</th>\n",
       "      <th>balance</th>\n",
       "    </tr>\n",
       "  </thead>\n",
       "  <tbody>\n",
       "    <tr>\n",
       "      <th>0</th>\n",
       "      <td>0.172414</td>\n",
       "      <td>0.121033</td>\n",
       "    </tr>\n",
       "    <tr>\n",
       "      <th>1</th>\n",
       "      <td>0.224138</td>\n",
       "      <td>0.225833</td>\n",
       "    </tr>\n",
       "    <tr>\n",
       "      <th>2</th>\n",
       "      <td>0.258621</td>\n",
       "      <td>0.105778</td>\n",
       "    </tr>\n",
       "    <tr>\n",
       "      <th>3</th>\n",
       "      <td>0.172414</td>\n",
       "      <td>0.110176</td>\n",
       "    </tr>\n",
       "    <tr>\n",
       "      <th>4</th>\n",
       "      <td>0.672414</td>\n",
       "      <td>0.058649</td>\n",
       "    </tr>\n",
       "  </tbody>\n",
       "</table>\n",
       "</div>"
      ],
      "text/plain": [
       "        age   balance\n",
       "0  0.172414  0.121033\n",
       "1  0.224138  0.225833\n",
       "2  0.258621  0.105778\n",
       "3  0.172414  0.110176\n",
       "4  0.672414  0.058649"
      ]
     },
     "execution_count": 13,
     "metadata": {},
     "output_type": "execute_result"
    }
   ],
   "source": [
    "scaled_age_head.head()"
   ]
  },
  {
   "cell_type": "code",
   "execution_count": 14,
   "id": "3ce83828",
   "metadata": {
    "scrolled": false
   },
   "outputs": [
    {
     "data": {
      "text/plain": [
       "<AxesSubplot:>"
      ]
     },
     "execution_count": 14,
     "metadata": {},
     "output_type": "execute_result"
    },
    {
     "data": {
      "image/png": "[encoded data removed]",
      "text/plain": [
       "<Figure size 360x720 with 2 Axes>"
      ]
     },
     "metadata": {
      "needs_background": "light"
     },
     "output_type": "display_data"
    }
   ],
   "source": [
    "# Тепловая карта\n",
    "fig_two = plt.figure(figsize=(5,10)) \n",
    "sns.heatmap(scaled_age_head, cmap = 'viridis')"
   ]
  },
  {
   "cell_type": "code",
   "execution_count": 15,
   "id": "50daa1c1",
   "metadata": {},
   "outputs": [],
   "source": [
    "df_scaled[['age','blance']] = scaled_age_head"
   ]
  },
  {
   "cell_type": "code",
   "execution_count": 16,
   "id": "bef6594b",
   "metadata": {},
   "outputs": [
    {
     "data": {
      "text/html": [
       "<div>\n",
       "<style scoped>\n",
       "    .dataframe tbody tr th:only-of-type {\n",
       "        vertical-align: middle;\n",
       "    }\n",
       "\n",
       "    .dataframe tbody tr th {\n",
       "        vertical-align: top;\n",
       "    }\n",
       "\n",
       "    .dataframe thead th {\n",
       "        text-align: right;\n",
       "    }\n",
       "</style>\n",
       "<table border=\"1\" class=\"dataframe\">\n",
       "  <thead>\n",
       "    <tr style=\"text-align: right;\">\n",
       "      <th></th>\n",
       "      <th>age</th>\n",
       "      <th>job</th>\n",
       "      <th>marital</th>\n",
       "      <th>education</th>\n",
       "      <th>default</th>\n",
       "      <th>balance</th>\n",
       "      <th>housing</th>\n",
       "      <th>loan</th>\n",
       "      <th>y</th>\n",
       "      <th>blance</th>\n",
       "    </tr>\n",
       "  </thead>\n",
       "  <tbody>\n",
       "    <tr>\n",
       "      <th>0</th>\n",
       "      <td>0.172414</td>\n",
       "      <td>unemployed</td>\n",
       "      <td>married</td>\n",
       "      <td>primary</td>\n",
       "      <td>no</td>\n",
       "      <td>1787</td>\n",
       "      <td>no</td>\n",
       "      <td>no</td>\n",
       "      <td>no</td>\n",
       "      <td>0.121033</td>\n",
       "    </tr>\n",
       "    <tr>\n",
       "      <th>1</th>\n",
       "      <td>0.224138</td>\n",
       "      <td>services</td>\n",
       "      <td>married</td>\n",
       "      <td>secondary</td>\n",
       "      <td>no</td>\n",
       "      <td>4789</td>\n",
       "      <td>yes</td>\n",
       "      <td>yes</td>\n",
       "      <td>no</td>\n",
       "      <td>0.225833</td>\n",
       "    </tr>\n",
       "    <tr>\n",
       "      <th>2</th>\n",
       "      <td>0.258621</td>\n",
       "      <td>management</td>\n",
       "      <td>single</td>\n",
       "      <td>tertiary</td>\n",
       "      <td>no</td>\n",
       "      <td>1350</td>\n",
       "      <td>yes</td>\n",
       "      <td>no</td>\n",
       "      <td>no</td>\n",
       "      <td>0.105778</td>\n",
       "    </tr>\n",
       "    <tr>\n",
       "      <th>3</th>\n",
       "      <td>0.172414</td>\n",
       "      <td>management</td>\n",
       "      <td>married</td>\n",
       "      <td>tertiary</td>\n",
       "      <td>no</td>\n",
       "      <td>1476</td>\n",
       "      <td>yes</td>\n",
       "      <td>yes</td>\n",
       "      <td>no</td>\n",
       "      <td>0.110176</td>\n",
       "    </tr>\n",
       "    <tr>\n",
       "      <th>4</th>\n",
       "      <td>0.672414</td>\n",
       "      <td>blue-collar</td>\n",
       "      <td>married</td>\n",
       "      <td>secondary</td>\n",
       "      <td>no</td>\n",
       "      <td>0</td>\n",
       "      <td>yes</td>\n",
       "      <td>no</td>\n",
       "      <td>no</td>\n",
       "      <td>0.058649</td>\n",
       "    </tr>\n",
       "  </tbody>\n",
       "</table>\n",
       "</div>"
      ],
      "text/plain": [
       "        age          job  marital  education default  balance housing loan  \\\n",
       "0  0.172414   unemployed  married    primary      no     1787      no   no   \n",
       "1  0.224138     services  married  secondary      no     4789     yes  yes   \n",
       "2  0.258621   management   single   tertiary      no     1350     yes   no   \n",
       "3  0.172414   management  married   tertiary      no     1476     yes  yes   \n",
       "4  0.672414  blue-collar  married  secondary      no        0     yes   no   \n",
       "\n",
       "    y    blance  \n",
       "0  no  0.121033  \n",
       "1  no  0.225833  \n",
       "2  no  0.105778  \n",
       "3  no  0.110176  \n",
       "4  no  0.058649  "
      ]
     },
     "execution_count": 16,
     "metadata": {},
     "output_type": "execute_result"
    }
   ],
   "source": [
    "df_scaled.head()"
   ]
  },
  {
   "cell_type": "markdown",
   "id": "c7d729ef",
   "metadata": {},
   "source": [
    "## Иерархическая кластеризация. (Метрика Гувера, метод дальнего соседа)"
   ]
  },
  {
   "cell_type": "code",
   "execution_count": 42,
   "id": "3871063b",
   "metadata": {},
   "outputs": [],
   "source": [
    "import gower\n",
    "from scipy.cluster.hierarchy import dendrogram, linkage"
   ]
  },
  {
   "cell_type": "code",
   "execution_count": 43,
   "id": "b993a362",
   "metadata": {},
   "outputs": [],
   "source": [
    "# Вычисляем матрицу расстояний с использованием расстояния Гувера\n",
    "dist_matrix = gower.gower_matrix(df_scaled)"
   ]
  },
  {
   "cell_type": "code",
   "execution_count": 44,
   "id": "b12396a0",
   "metadata": {},
   "outputs": [
    {
     "name": "stderr",
     "output_type": "stream",
     "text": [
      "<ipython-input-44-48de937d1f0a>:2: ClusterWarning: scipy.cluster: The symmetric non-negative hollow observation matrix looks suspiciously like an uncondensed distance matrix\n",
      "  linked = linkage(dist_matrix, method='complete')\n"
     ]
    }
   ],
   "source": [
    "# Применяем иерархическую кластеризацию\n",
    "linked = linkage(dist_matrix, method='complete')"
   ]
  },
  {
   "cell_type": "markdown",
   "id": "d1774be0",
   "metadata": {},
   "source": [
    "### Дендрограмма"
   ]
  },
  {
   "cell_type": "code",
   "execution_count": 45,
   "id": "faea3b32",
   "metadata": {},
   "outputs": [
    {
     "data": {
      "image/png": "[encoded data removed]",
      "text/plain": [
       "<Figure size 1440x720 with 1 Axes>"
      ]
     },
     "metadata": {
      "needs_background": "light"
     },
     "output_type": "display_data"
    }
   ],
   "source": [
    "fig = plt.figure(figsize=(20,10))\n",
    "ax1 = fig.add_subplot(111)\n",
    "ax1.set_xlabel('Схожесть клиентов банка')\n",
    "ax1.set_title('Дендрограмма')\n",
    "dn = dendrogram(linked,\n",
    "                leaf_font_size = 3,\n",
    "                color_threshold= -1,\n",
    "                orientation = \"top\",\n",
    "                leaf_rotation= 0.)"
   ]
  },
  {
   "cell_type": "markdown",
   "id": "335aecb5",
   "metadata": {},
   "source": [
    "Дендрограмма (8 кластеров)"
   ]
  },
  {
   "cell_type": "code",
   "execution_count": 46,
   "id": "194857ff",
   "metadata": {
    "scrolled": false
   },
   "outputs": [
    {
     "data": {
      "image/png": "[encoded data removed]",
      "text/plain": [
       "<Figure size 1440x720 with 1 Axes>"
      ]
     },
     "metadata": {
      "needs_background": "light"
     },
     "output_type": "display_data"
    }
   ],
   "source": [
    "fig = plt.figure(figsize=(20,10))\n",
    "ax1 = fig.add_subplot(111)\n",
    "ax1.set_xlabel('Схожесть клиентов банка')\n",
    "ax1.set_title('Дендрограмма')\n",
    "dn = dendrogram(linked,\n",
    "                leaf_font_size = 3,\n",
    "                color_threshold= 4,\n",
    "                orientation = \"top\",\n",
    "                leaf_rotation= 0.)"
   ]
  },
  {
   "cell_type": "markdown",
   "id": "3b1ab1cf",
   "metadata": {},
   "source": [
    "### Каменистая осыпь"
   ]
  },
  {
   "cell_type": "code",
   "execution_count": 47,
   "id": "6ad03531",
   "metadata": {
    "scrolled": false
   },
   "outputs": [
    {
     "data": {
      "text/plain": [
       "(0.0, 25.0)"
      ]
     },
     "execution_count": 47,
     "metadata": {},
     "output_type": "execute_result"
    },
    {
     "data": {
      "image/png": "[encoded data removed]",
      "text/plain": [
       "<Figure size 1152x576 with 1 Axes>"
      ]
     },
     "metadata": {
      "needs_background": "light"
     },
     "output_type": "display_data"
    }
   ],
   "source": [
    "# Построение каменистой осыпи\n",
    "fig = plt.figure(figsize=(16,8))\n",
    "dist = linked[:, 2]\n",
    "dist_rev = dist[::-1]\n",
    "idxs = range(1, len(dist) + 1)\n",
    "plt.plot(idxs, dist_rev, marker='o')\n",
    "plt.title('Расстояние между объединяемыми кластерами')\n",
    "plt.xlabel('Шаг объединения')\n",
    "plt.ylabel('Расстояние')\n",
    "plt.xlim([0,25])"
   ]
  },
  {
   "cell_type": "markdown",
   "id": "7bde559c",
   "metadata": {},
   "source": [
    "Видим что \"локоть\" образуется при количестве кластеров 3 и 8, возьмем 8 кластеров так как дальнейшее уменьшение расстояния незначительно "
   ]
  },
  {
   "cell_type": "code",
   "execution_count": 48,
   "id": "74b797b5",
   "metadata": {},
   "outputs": [],
   "source": [
    "df_clust = df.copy()"
   ]
  },
  {
   "cell_type": "code",
   "execution_count": 49,
   "id": "598eb8aa",
   "metadata": {},
   "outputs": [],
   "source": [
    "from scipy.cluster.hierarchy import fcluster"
   ]
  },
  {
   "cell_type": "code",
   "execution_count": 50,
   "id": "1df13f67",
   "metadata": {},
   "outputs": [],
   "source": [
    "# Добавим информацию о номере кластера в таблицу\n",
    "df_clust['cluster'] = fcluster(linked, 8, criterion='maxclust')"
   ]
  },
  {
   "cell_type": "code",
   "execution_count": null,
   "id": "dbe6f668",
   "metadata": {},
   "outputs": [],
   "source": [
    "# Средние значения кластеров\n",
    "cluster_means = df_clust.groupby('cluster').mean()"
   ]
  },
  {
   "cell_type": "code",
   "execution_count": 51,
   "id": "65639913",
   "metadata": {},
   "outputs": [],
   "source": [
    "# Список для хранения датафреймов с распределением категориальных переменных\n",
    "cat_dfs = []\n",
    "\n",
    "# Распределение категориальных переменных по кластерам\n",
    "for column in df_clust.select_dtypes(include=[object]):  \n",
    "    cat_distribution = pd.crosstab(index=df_clust['cluster'], columns=df_clust[column], normalize='index')\n",
    "    \n",
    "    # Переименовываем столбцы, чтобы сохранить информацию о переменной и ее уникальных значениях\n",
    "    cat_distribution.columns = pd.MultiIndex.from_product([[column], cat_distribution.columns])\n",
    "    \n",
    "    # Добавляем датафрейм в список\n",
    "    cat_dfs.append(cat_distribution)\n",
    "\n",
    "# Объединяем все датафреймы в один\n",
    "final_df = pd.concat([cluster_means] + cat_dfs, axis=1)"
   ]
  },
  {
   "cell_type": "markdown",
   "id": "c03d16a9",
   "metadata": {},
   "source": [
    "### Средние значения кластеров"
   ]
  },
  {
   "cell_type": "code",
   "execution_count": 244,
   "id": "4af57989",
   "metadata": {
    "scrolled": true
   },
   "outputs": [
    {
     "data": {
      "text/html": [
       "<div>\n",
       "<style scoped>\n",
       "    .dataframe tbody tr th:only-of-type {\n",
       "        vertical-align: middle;\n",
       "    }\n",
       "\n",
       "    .dataframe tbody tr th {\n",
       "        vertical-align: top;\n",
       "    }\n",
       "\n",
       "    .dataframe thead th {\n",
       "        text-align: right;\n",
       "    }\n",
       "</style>\n",
       "<table border=\"1\" class=\"dataframe\">\n",
       "  <thead>\n",
       "    <tr style=\"text-align: right;\">\n",
       "      <th></th>\n",
       "      <th>age</th>\n",
       "      <th>balance</th>\n",
       "      <th>(job, admin)</th>\n",
       "      <th>(job, blue-collar)</th>\n",
       "      <th>(job, entrepreneur)</th>\n",
       "      <th>(job, housemaid)</th>\n",
       "      <th>(job, management)</th>\n",
       "      <th>(job, retired)</th>\n",
       "      <th>(job, self-employed)</th>\n",
       "      <th>(job, services)</th>\n",
       "      <th>(job, student)</th>\n",
       "      <th>(job, technician)</th>\n",
       "      <th>(job, unemployed)</th>\n",
       "      <th>(job, unknown)</th>\n",
       "      <th>(marital, divorced)</th>\n",
       "      <th>(marital, married)</th>\n",
       "      <th>(marital, single)</th>\n",
       "      <th>(education, primary)</th>\n",
       "      <th>(education, secondary)</th>\n",
       "      <th>(education, tertiary)</th>\n",
       "      <th>(education, unknown)</th>\n",
       "      <th>(default, no)</th>\n",
       "      <th>(default, yes)</th>\n",
       "      <th>(housing, no)</th>\n",
       "      <th>(housing, yes)</th>\n",
       "      <th>(loan, no)</th>\n",
       "      <th>(loan, yes)</th>\n",
       "      <th>(y, no)</th>\n",
       "      <th>(y, yes)</th>\n",
       "    </tr>\n",
       "    <tr>\n",
       "      <th>cluster</th>\n",
       "      <th></th>\n",
       "      <th></th>\n",
       "      <th></th>\n",
       "      <th></th>\n",
       "      <th></th>\n",
       "      <th></th>\n",
       "      <th></th>\n",
       "      <th></th>\n",
       "      <th></th>\n",
       "      <th></th>\n",
       "      <th></th>\n",
       "      <th></th>\n",
       "      <th></th>\n",
       "      <th></th>\n",
       "      <th></th>\n",
       "      <th></th>\n",
       "      <th></th>\n",
       "      <th></th>\n",
       "      <th></th>\n",
       "      <th></th>\n",
       "      <th></th>\n",
       "      <th></th>\n",
       "      <th></th>\n",
       "      <th></th>\n",
       "      <th></th>\n",
       "      <th></th>\n",
       "      <th></th>\n",
       "      <th></th>\n",
       "      <th></th>\n",
       "    </tr>\n",
       "  </thead>\n",
       "  <tbody>\n",
       "    <tr>\n",
       "      <th>1</th>\n",
       "      <td>39.694737</td>\n",
       "      <td>984.694737</td>\n",
       "      <td>0.168421</td>\n",
       "      <td>0.326316</td>\n",
       "      <td>0.031579</td>\n",
       "      <td>0.010526</td>\n",
       "      <td>0.126316</td>\n",
       "      <td>0.031579</td>\n",
       "      <td>0.052632</td>\n",
       "      <td>0.063158</td>\n",
       "      <td>0.000000</td>\n",
       "      <td>0.168421</td>\n",
       "      <td>0.021053</td>\n",
       "      <td>0.000000</td>\n",
       "      <td>0.000000</td>\n",
       "      <td>1.000000</td>\n",
       "      <td>0.000000</td>\n",
       "      <td>0.210526</td>\n",
       "      <td>0.547368</td>\n",
       "      <td>0.210526</td>\n",
       "      <td>0.031579</td>\n",
       "      <td>1.000000</td>\n",
       "      <td>0.000000</td>\n",
       "      <td>0.0</td>\n",
       "      <td>1.0</td>\n",
       "      <td>1.000000</td>\n",
       "      <td>0.000000</td>\n",
       "      <td>1.000000</td>\n",
       "      <td>0.000000</td>\n",
       "    </tr>\n",
       "    <tr>\n",
       "      <th>2</th>\n",
       "      <td>43.074074</td>\n",
       "      <td>1832.555556</td>\n",
       "      <td>0.059259</td>\n",
       "      <td>0.177778</td>\n",
       "      <td>0.037037</td>\n",
       "      <td>0.037037</td>\n",
       "      <td>0.251852</td>\n",
       "      <td>0.051852</td>\n",
       "      <td>0.066667</td>\n",
       "      <td>0.066667</td>\n",
       "      <td>0.007407</td>\n",
       "      <td>0.192593</td>\n",
       "      <td>0.029630</td>\n",
       "      <td>0.022222</td>\n",
       "      <td>0.125926</td>\n",
       "      <td>0.651852</td>\n",
       "      <td>0.222222</td>\n",
       "      <td>0.170370</td>\n",
       "      <td>0.511111</td>\n",
       "      <td>0.296296</td>\n",
       "      <td>0.022222</td>\n",
       "      <td>1.000000</td>\n",
       "      <td>0.000000</td>\n",
       "      <td>1.0</td>\n",
       "      <td>0.0</td>\n",
       "      <td>0.896296</td>\n",
       "      <td>0.103704</td>\n",
       "      <td>0.970370</td>\n",
       "      <td>0.029630</td>\n",
       "    </tr>\n",
       "    <tr>\n",
       "      <th>3</th>\n",
       "      <td>43.303030</td>\n",
       "      <td>1516.848485</td>\n",
       "      <td>0.212121</td>\n",
       "      <td>0.272727</td>\n",
       "      <td>0.030303</td>\n",
       "      <td>0.000000</td>\n",
       "      <td>0.030303</td>\n",
       "      <td>0.060606</td>\n",
       "      <td>0.060606</td>\n",
       "      <td>0.151515</td>\n",
       "      <td>0.000000</td>\n",
       "      <td>0.181818</td>\n",
       "      <td>0.000000</td>\n",
       "      <td>0.000000</td>\n",
       "      <td>0.151515</td>\n",
       "      <td>0.787879</td>\n",
       "      <td>0.060606</td>\n",
       "      <td>0.151515</td>\n",
       "      <td>0.696970</td>\n",
       "      <td>0.000000</td>\n",
       "      <td>0.151515</td>\n",
       "      <td>0.939394</td>\n",
       "      <td>0.060606</td>\n",
       "      <td>0.0</td>\n",
       "      <td>1.0</td>\n",
       "      <td>0.393939</td>\n",
       "      <td>0.606061</td>\n",
       "      <td>0.727273</td>\n",
       "      <td>0.272727</td>\n",
       "    </tr>\n",
       "    <tr>\n",
       "      <th>4</th>\n",
       "      <td>36.876543</td>\n",
       "      <td>1665.382716</td>\n",
       "      <td>0.148148</td>\n",
       "      <td>0.160494</td>\n",
       "      <td>0.000000</td>\n",
       "      <td>0.012346</td>\n",
       "      <td>0.308642</td>\n",
       "      <td>0.024691</td>\n",
       "      <td>0.000000</td>\n",
       "      <td>0.086420</td>\n",
       "      <td>0.000000</td>\n",
       "      <td>0.259259</td>\n",
       "      <td>0.000000</td>\n",
       "      <td>0.000000</td>\n",
       "      <td>0.185185</td>\n",
       "      <td>0.098765</td>\n",
       "      <td>0.716049</td>\n",
       "      <td>0.061728</td>\n",
       "      <td>0.432099</td>\n",
       "      <td>0.456790</td>\n",
       "      <td>0.049383</td>\n",
       "      <td>0.987654</td>\n",
       "      <td>0.012346</td>\n",
       "      <td>0.0</td>\n",
       "      <td>1.0</td>\n",
       "      <td>0.839506</td>\n",
       "      <td>0.160494</td>\n",
       "      <td>0.901235</td>\n",
       "      <td>0.098765</td>\n",
       "    </tr>\n",
       "    <tr>\n",
       "      <th>5</th>\n",
       "      <td>44.800000</td>\n",
       "      <td>1002.000000</td>\n",
       "      <td>0.000000</td>\n",
       "      <td>0.000000</td>\n",
       "      <td>0.600000</td>\n",
       "      <td>0.000000</td>\n",
       "      <td>0.000000</td>\n",
       "      <td>0.200000</td>\n",
       "      <td>0.000000</td>\n",
       "      <td>0.000000</td>\n",
       "      <td>0.000000</td>\n",
       "      <td>0.000000</td>\n",
       "      <td>0.200000</td>\n",
       "      <td>0.000000</td>\n",
       "      <td>0.800000</td>\n",
       "      <td>0.000000</td>\n",
       "      <td>0.200000</td>\n",
       "      <td>0.400000</td>\n",
       "      <td>0.000000</td>\n",
       "      <td>0.600000</td>\n",
       "      <td>0.000000</td>\n",
       "      <td>0.400000</td>\n",
       "      <td>0.600000</td>\n",
       "      <td>0.0</td>\n",
       "      <td>1.0</td>\n",
       "      <td>0.200000</td>\n",
       "      <td>0.800000</td>\n",
       "      <td>1.000000</td>\n",
       "      <td>0.000000</td>\n",
       "    </tr>\n",
       "    <tr>\n",
       "      <th>6</th>\n",
       "      <td>46.833333</td>\n",
       "      <td>1793.277778</td>\n",
       "      <td>0.000000</td>\n",
       "      <td>0.166667</td>\n",
       "      <td>0.000000</td>\n",
       "      <td>0.000000</td>\n",
       "      <td>0.277778</td>\n",
       "      <td>0.222222</td>\n",
       "      <td>0.111111</td>\n",
       "      <td>0.000000</td>\n",
       "      <td>0.055556</td>\n",
       "      <td>0.055556</td>\n",
       "      <td>0.111111</td>\n",
       "      <td>0.000000</td>\n",
       "      <td>0.333333</td>\n",
       "      <td>0.333333</td>\n",
       "      <td>0.333333</td>\n",
       "      <td>0.222222</td>\n",
       "      <td>0.111111</td>\n",
       "      <td>0.611111</td>\n",
       "      <td>0.055556</td>\n",
       "      <td>1.000000</td>\n",
       "      <td>0.000000</td>\n",
       "      <td>1.0</td>\n",
       "      <td>0.0</td>\n",
       "      <td>1.000000</td>\n",
       "      <td>0.000000</td>\n",
       "      <td>0.000000</td>\n",
       "      <td>1.000000</td>\n",
       "    </tr>\n",
       "    <tr>\n",
       "      <th>7</th>\n",
       "      <td>35.633333</td>\n",
       "      <td>1597.133333</td>\n",
       "      <td>0.100000</td>\n",
       "      <td>0.133333</td>\n",
       "      <td>0.033333</td>\n",
       "      <td>0.000000</td>\n",
       "      <td>0.233333</td>\n",
       "      <td>0.000000</td>\n",
       "      <td>0.033333</td>\n",
       "      <td>0.066667</td>\n",
       "      <td>0.133333</td>\n",
       "      <td>0.266667</td>\n",
       "      <td>0.000000</td>\n",
       "      <td>0.000000</td>\n",
       "      <td>0.166667</td>\n",
       "      <td>0.133333</td>\n",
       "      <td>0.700000</td>\n",
       "      <td>0.000000</td>\n",
       "      <td>0.700000</td>\n",
       "      <td>0.300000</td>\n",
       "      <td>0.000000</td>\n",
       "      <td>0.900000</td>\n",
       "      <td>0.100000</td>\n",
       "      <td>1.0</td>\n",
       "      <td>0.0</td>\n",
       "      <td>0.366667</td>\n",
       "      <td>0.633333</td>\n",
       "      <td>0.766667</td>\n",
       "      <td>0.233333</td>\n",
       "    </tr>\n",
       "    <tr>\n",
       "      <th>8</th>\n",
       "      <td>31.000000</td>\n",
       "      <td>26965.000000</td>\n",
       "      <td>0.000000</td>\n",
       "      <td>0.000000</td>\n",
       "      <td>0.000000</td>\n",
       "      <td>1.000000</td>\n",
       "      <td>0.000000</td>\n",
       "      <td>0.000000</td>\n",
       "      <td>0.000000</td>\n",
       "      <td>0.000000</td>\n",
       "      <td>0.000000</td>\n",
       "      <td>0.000000</td>\n",
       "      <td>0.000000</td>\n",
       "      <td>0.000000</td>\n",
       "      <td>0.000000</td>\n",
       "      <td>0.000000</td>\n",
       "      <td>1.000000</td>\n",
       "      <td>1.000000</td>\n",
       "      <td>0.000000</td>\n",
       "      <td>0.000000</td>\n",
       "      <td>0.000000</td>\n",
       "      <td>1.000000</td>\n",
       "      <td>0.000000</td>\n",
       "      <td>1.0</td>\n",
       "      <td>0.0</td>\n",
       "      <td>1.000000</td>\n",
       "      <td>0.000000</td>\n",
       "      <td>0.000000</td>\n",
       "      <td>1.000000</td>\n",
       "    </tr>\n",
       "  </tbody>\n",
       "</table>\n",
       "</div>"
      ],
      "text/plain": [
       "               age       balance  (job, admin)  (job, blue-collar)  \\\n",
       "cluster                                                              \n",
       "1        39.694737    984.694737      0.168421            0.326316   \n",
       "2        43.074074   1832.555556      0.059259            0.177778   \n",
       "3        43.303030   1516.848485      0.212121            0.272727   \n",
       "4        36.876543   1665.382716      0.148148            0.160494   \n",
       "5        44.800000   1002.000000      0.000000            0.000000   \n",
       "6        46.833333   1793.277778      0.000000            0.166667   \n",
       "7        35.633333   1597.133333      0.100000            0.133333   \n",
       "8        31.000000  26965.000000      0.000000            0.000000   \n",
       "\n",
       "         (job, entrepreneur)  (job, housemaid)  (job, management)  \\\n",
       "cluster                                                             \n",
       "1                   0.031579          0.010526           0.126316   \n",
       "2                   0.037037          0.037037           0.251852   \n",
       "3                   0.030303          0.000000           0.030303   \n",
       "4                   0.000000          0.012346           0.308642   \n",
       "5                   0.600000          0.000000           0.000000   \n",
       "6                   0.000000          0.000000           0.277778   \n",
       "7                   0.033333          0.000000           0.233333   \n",
       "8                   0.000000          1.000000           0.000000   \n",
       "\n",
       "         (job, retired)  (job, self-employed)  (job, services)  \\\n",
       "cluster                                                          \n",
       "1              0.031579              0.052632         0.063158   \n",
       "2              0.051852              0.066667         0.066667   \n",
       "3              0.060606              0.060606         0.151515   \n",
       "4              0.024691              0.000000         0.086420   \n",
       "5              0.200000              0.000000         0.000000   \n",
       "6              0.222222              0.111111         0.000000   \n",
       "7              0.000000              0.033333         0.066667   \n",
       "8              0.000000              0.000000         0.000000   \n",
       "\n",
       "         (job, student)  (job, technician)  (job, unemployed)  (job, unknown)  \\\n",
       "cluster                                                                         \n",
       "1              0.000000           0.168421           0.021053        0.000000   \n",
       "2              0.007407           0.192593           0.029630        0.022222   \n",
       "3              0.000000           0.181818           0.000000        0.000000   \n",
       "4              0.000000           0.259259           0.000000        0.000000   \n",
       "5              0.000000           0.000000           0.200000        0.000000   \n",
       "6              0.055556           0.055556           0.111111        0.000000   \n",
       "7              0.133333           0.266667           0.000000        0.000000   \n",
       "8              0.000000           0.000000           0.000000        0.000000   \n",
       "\n",
       "         (marital, divorced)  (marital, married)  (marital, single)  \\\n",
       "cluster                                                               \n",
       "1                   0.000000            1.000000           0.000000   \n",
       "2                   0.125926            0.651852           0.222222   \n",
       "3                   0.151515            0.787879           0.060606   \n",
       "4                   0.185185            0.098765           0.716049   \n",
       "5                   0.800000            0.000000           0.200000   \n",
       "6                   0.333333            0.333333           0.333333   \n",
       "7                   0.166667            0.133333           0.700000   \n",
       "8                   0.000000            0.000000           1.000000   \n",
       "\n",
       "         (education, primary)  (education, secondary)  (education, tertiary)  \\\n",
       "cluster                                                                        \n",
       "1                    0.210526                0.547368               0.210526   \n",
       "2                    0.170370                0.511111               0.296296   \n",
       "3                    0.151515                0.696970               0.000000   \n",
       "4                    0.061728                0.432099               0.456790   \n",
       "5                    0.400000                0.000000               0.600000   \n",
       "6                    0.222222                0.111111               0.611111   \n",
       "7                    0.000000                0.700000               0.300000   \n",
       "8                    1.000000                0.000000               0.000000   \n",
       "\n",
       "         (education, unknown)  (default, no)  (default, yes)  (housing, no)  \\\n",
       "cluster                                                                       \n",
       "1                    0.031579       1.000000        0.000000            0.0   \n",
       "2                    0.022222       1.000000        0.000000            1.0   \n",
       "3                    0.151515       0.939394        0.060606            0.0   \n",
       "4                    0.049383       0.987654        0.012346            0.0   \n",
       "5                    0.000000       0.400000        0.600000            0.0   \n",
       "6                    0.055556       1.000000        0.000000            1.0   \n",
       "7                    0.000000       0.900000        0.100000            1.0   \n",
       "8                    0.000000       1.000000        0.000000            1.0   \n",
       "\n",
       "         (housing, yes)  (loan, no)  (loan, yes)   (y, no)  (y, yes)  \n",
       "cluster                                                               \n",
       "1                   1.0    1.000000     0.000000  1.000000  0.000000  \n",
       "2                   0.0    0.896296     0.103704  0.970370  0.029630  \n",
       "3                   1.0    0.393939     0.606061  0.727273  0.272727  \n",
       "4                   1.0    0.839506     0.160494  0.901235  0.098765  \n",
       "5                   1.0    0.200000     0.800000  1.000000  0.000000  \n",
       "6                   0.0    1.000000     0.000000  0.000000  1.000000  \n",
       "7                   0.0    0.366667     0.633333  0.766667  0.233333  \n",
       "8                   0.0    1.000000     0.000000  0.000000  1.000000  "
      ]
     },
     "execution_count": 244,
     "metadata": {},
     "output_type": "execute_result"
    }
   ],
   "source": [
    "pd.set_option('display.max_columns', None)\n",
    "final_df"
   ]
  },
  {
   "cell_type": "code",
   "execution_count": 53,
   "id": "6afa2389",
   "metadata": {},
   "outputs": [
    {
     "data": {
      "text/plain": [
       "1     95\n",
       "2    135\n",
       "3     33\n",
       "4     81\n",
       "5      5\n",
       "6     18\n",
       "7     30\n",
       "8      1\n",
       "Name: cluster, dtype: int64"
      ]
     },
     "execution_count": 53,
     "metadata": {},
     "output_type": "execute_result"
    }
   ],
   "source": [
    "# Кол-во наблюдений по кластерам\n",
    "df_clust['cluster'].value_counts().sort_index()"
   ]
  },
  {
   "cell_type": "markdown",
   "id": "a64a70db",
   "metadata": {},
   "source": [
    "## Интерпретация\n",
    "### Кластер 1 (Бедные с семьей) \n",
    "* Средний возраст: 40, Средний баланс: 985.\n",
    "* Преимущественно рабочие и технические специалисты.\n",
    "* Все в браке.\n",
    "* Образование высшее или среднее.\n",
    "* Все без дефолта по кредитам.\n",
    "* Все имеют жилье, и не брали кредит\n",
    "* Всем отказано в кредите.\n",
    "\n",
    "### Кластер 2 (Обеспеченные с семьей)\n",
    "* Средний возраст: 43, Средний баланс: 1833.\n",
    "* Преимущественно менеджеры и рабочие.\n",
    "* Большинство женаты/замужем.\n",
    "* Смешанное образование с акцентом на среднее и высшее.\n",
    "* Все без дефолта по кредитам.\n",
    "* Все не имеют жилья.\n",
    "* Большинство не брало кредит.\n",
    "* 97% отказано в кредите\n",
    "\n",
    "### Кластер 3 (Брали кредит и вернули)\n",
    "* Средний возраст: 43, Средний баланс: 1517.\n",
    "* Администраторы и рабочие.\n",
    "* В основном в браке.\n",
    "* В основном среднее образование.\n",
    "* Большинство без дефолта по кредитам.\n",
    "* Все имеют жилье.\n",
    "* Больше людей брало кредит.\n",
    "* 72% отказано в кредите.\n",
    "\n",
    "### Кластер 4 (Молодые одиночки)\n",
    "* Средний возраст: 37, Средний баланс: 1665.\n",
    "* Преимущественно менеджеры и технические специалисты.\n",
    "* Большинство холосты.\n",
    "* Среднее и высшее образование.\n",
    "* Почти все без дефолта по кредитам.\n",
    "* Все имеют жилье.\n",
    "* Большинство не брало кредит.\n",
    "* 90% отказано в кредите.\n",
    "\n",
    "### Кластер 5 (Брали кредит и не вернули)\n",
    "* Средний возраст: 45, Средний баланс: 1002.\n",
    "* Предприниматели, пенсионеры и безработные\n",
    "* В основном разведены.\n",
    "* Смешанное образование с акцентом на высшее.\n",
    "* Большинство имеют дефолт\n",
    "* Все имеют жилье.\n",
    "* Большинство уже брали кредиты.\n",
    "* Всем отказано в кредите.\n",
    "\n",
    "### Кластер 6 (Одобрили кредит)\n",
    "* Средний возраст: 47, Средний баланс: 1793.\n",
    "* Смешанные профессии\n",
    "* Равномерное распределение семейного положения.\n",
    "* Преимущественно высшее образование.\n",
    "* Все без дефолта по кредитам.\n",
    "* Все не имеют жилья.\n",
    "* Все без текущих кредитов.\n",
    "* Всем одобрили кредит.\n",
    "\n",
    "### Кластер 7 (Молодые люди которые уже брали кредит и вернули)\n",
    "* Средний возраст: 36, Средний баланс: 1597.\n",
    "* Преимущественно менеджеры и технические специалисты.\n",
    "* В основном одинокие.\n",
    "* Преимущественно среднее образование.\n",
    "* Большинство без дефолта по кредитам.\n",
    "* Все имеют жилье.\n",
    "* Большинство брали кредит\n",
    "* 76% отказано в кредите\n",
    "\n",
    "### Кластер 8 (Скорее всего выброс)\n",
    "\n",
    "* возраст: 31, Баланс: 26965.\n",
    "* Домрабоница.\n",
    "* Одинокая\n",
    "* Имеет начальное образование\n",
    "* Нет дефолта по кредитам\n",
    "* Есть дом\n",
    "* Нет кредитов\n",
    "* Кредит одобрен"
   ]
  },
  {
   "cell_type": "markdown",
   "id": "46582376",
   "metadata": {},
   "source": [
    "Учитывая, что один из кластеров полностью состоит из людей которым выдали кредит, можно считать эту кластеризацию достаточно удачной"
   ]
  },
  {
   "cell_type": "markdown",
   "id": "915b190d",
   "metadata": {},
   "source": [
    "# K-means"
   ]
  },
  {
   "cell_type": "markdown",
   "id": "5cc6adbd",
   "metadata": {},
   "source": [
    "### One-hot endcoding"
   ]
  },
  {
   "cell_type": "code",
   "execution_count": 216,
   "id": "0d544d03",
   "metadata": {},
   "outputs": [],
   "source": [
    "from sklearn.preprocessing import OneHotEncoder\n",
    "from sklearn.cluster import KMeans"
   ]
  },
  {
   "cell_type": "code",
   "execution_count": 217,
   "id": "7a30fbcc",
   "metadata": {},
   "outputs": [],
   "source": [
    "categoricals = ['job', 'marital', 'education', 'default', 'housing', 'loan', 'y']\n",
    "df_category = df[categoricals]"
   ]
  },
  {
   "cell_type": "code",
   "execution_count": 218,
   "id": "d01619ac",
   "metadata": {},
   "outputs": [],
   "source": [
    "encoder = OneHotEncoder(drop='first', sparse=False)\n",
    "df_encoded = pd.DataFrame(encoder.fit_transform(df_category))\n",
    "df_encoded.columns = encoder.get_feature_names(df_category.columns)"
   ]
  },
  {
   "cell_type": "code",
   "execution_count": 219,
   "id": "b49092c6",
   "metadata": {},
   "outputs": [],
   "source": [
    "df_encoded[['age', 'balance']] = scaled_age_head[['age', 'balance']] "
   ]
  },
  {
   "cell_type": "code",
   "execution_count": 220,
   "id": "5497f06b",
   "metadata": {
    "scrolled": false
   },
   "outputs": [
    {
     "data": {
      "text/html": [
       "<div>\n",
       "<style scoped>\n",
       "    .dataframe tbody tr th:only-of-type {\n",
       "        vertical-align: middle;\n",
       "    }\n",
       "\n",
       "    .dataframe tbody tr th {\n",
       "        vertical-align: top;\n",
       "    }\n",
       "\n",
       "    .dataframe thead th {\n",
       "        text-align: right;\n",
       "    }\n",
       "</style>\n",
       "<table border=\"1\" class=\"dataframe\">\n",
       "  <thead>\n",
       "    <tr style=\"text-align: right;\">\n",
       "      <th></th>\n",
       "      <th>job_blue-collar</th>\n",
       "      <th>job_entrepreneur</th>\n",
       "      <th>job_housemaid</th>\n",
       "      <th>job_management</th>\n",
       "      <th>job_retired</th>\n",
       "      <th>job_self-employed</th>\n",
       "      <th>job_services</th>\n",
       "      <th>job_student</th>\n",
       "      <th>job_technician</th>\n",
       "      <th>job_unemployed</th>\n",
       "      <th>job_unknown</th>\n",
       "      <th>marital_married</th>\n",
       "      <th>marital_single</th>\n",
       "      <th>education_secondary</th>\n",
       "      <th>education_tertiary</th>\n",
       "      <th>education_unknown</th>\n",
       "      <th>default_yes</th>\n",
       "      <th>housing_yes</th>\n",
       "      <th>loan_yes</th>\n",
       "      <th>y_yes</th>\n",
       "      <th>age</th>\n",
       "      <th>balance</th>\n",
       "    </tr>\n",
       "  </thead>\n",
       "  <tbody>\n",
       "    <tr>\n",
       "      <th>0</th>\n",
       "      <td>0.0</td>\n",
       "      <td>0.0</td>\n",
       "      <td>0.0</td>\n",
       "      <td>0.0</td>\n",
       "      <td>0.0</td>\n",
       "      <td>0.0</td>\n",
       "      <td>0.0</td>\n",
       "      <td>0.0</td>\n",
       "      <td>0.0</td>\n",
       "      <td>1.0</td>\n",
       "      <td>0.0</td>\n",
       "      <td>1.0</td>\n",
       "      <td>0.0</td>\n",
       "      <td>0.0</td>\n",
       "      <td>0.0</td>\n",
       "      <td>0.0</td>\n",
       "      <td>0.0</td>\n",
       "      <td>0.0</td>\n",
       "      <td>0.0</td>\n",
       "      <td>0.0</td>\n",
       "      <td>0.172414</td>\n",
       "      <td>0.121033</td>\n",
       "    </tr>\n",
       "    <tr>\n",
       "      <th>1</th>\n",
       "      <td>0.0</td>\n",
       "      <td>0.0</td>\n",
       "      <td>0.0</td>\n",
       "      <td>0.0</td>\n",
       "      <td>0.0</td>\n",
       "      <td>0.0</td>\n",
       "      <td>1.0</td>\n",
       "      <td>0.0</td>\n",
       "      <td>0.0</td>\n",
       "      <td>0.0</td>\n",
       "      <td>0.0</td>\n",
       "      <td>1.0</td>\n",
       "      <td>0.0</td>\n",
       "      <td>1.0</td>\n",
       "      <td>0.0</td>\n",
       "      <td>0.0</td>\n",
       "      <td>0.0</td>\n",
       "      <td>1.0</td>\n",
       "      <td>1.0</td>\n",
       "      <td>0.0</td>\n",
       "      <td>0.224138</td>\n",
       "      <td>0.225833</td>\n",
       "    </tr>\n",
       "    <tr>\n",
       "      <th>2</th>\n",
       "      <td>0.0</td>\n",
       "      <td>0.0</td>\n",
       "      <td>0.0</td>\n",
       "      <td>1.0</td>\n",
       "      <td>0.0</td>\n",
       "      <td>0.0</td>\n",
       "      <td>0.0</td>\n",
       "      <td>0.0</td>\n",
       "      <td>0.0</td>\n",
       "      <td>0.0</td>\n",
       "      <td>0.0</td>\n",
       "      <td>0.0</td>\n",
       "      <td>1.0</td>\n",
       "      <td>0.0</td>\n",
       "      <td>1.0</td>\n",
       "      <td>0.0</td>\n",
       "      <td>0.0</td>\n",
       "      <td>1.0</td>\n",
       "      <td>0.0</td>\n",
       "      <td>0.0</td>\n",
       "      <td>0.258621</td>\n",
       "      <td>0.105778</td>\n",
       "    </tr>\n",
       "    <tr>\n",
       "      <th>3</th>\n",
       "      <td>0.0</td>\n",
       "      <td>0.0</td>\n",
       "      <td>0.0</td>\n",
       "      <td>1.0</td>\n",
       "      <td>0.0</td>\n",
       "      <td>0.0</td>\n",
       "      <td>0.0</td>\n",
       "      <td>0.0</td>\n",
       "      <td>0.0</td>\n",
       "      <td>0.0</td>\n",
       "      <td>0.0</td>\n",
       "      <td>1.0</td>\n",
       "      <td>0.0</td>\n",
       "      <td>0.0</td>\n",
       "      <td>1.0</td>\n",
       "      <td>0.0</td>\n",
       "      <td>0.0</td>\n",
       "      <td>1.0</td>\n",
       "      <td>1.0</td>\n",
       "      <td>0.0</td>\n",
       "      <td>0.172414</td>\n",
       "      <td>0.110176</td>\n",
       "    </tr>\n",
       "    <tr>\n",
       "      <th>4</th>\n",
       "      <td>1.0</td>\n",
       "      <td>0.0</td>\n",
       "      <td>0.0</td>\n",
       "      <td>0.0</td>\n",
       "      <td>0.0</td>\n",
       "      <td>0.0</td>\n",
       "      <td>0.0</td>\n",
       "      <td>0.0</td>\n",
       "      <td>0.0</td>\n",
       "      <td>0.0</td>\n",
       "      <td>0.0</td>\n",
       "      <td>1.0</td>\n",
       "      <td>0.0</td>\n",
       "      <td>1.0</td>\n",
       "      <td>0.0</td>\n",
       "      <td>0.0</td>\n",
       "      <td>0.0</td>\n",
       "      <td>1.0</td>\n",
       "      <td>0.0</td>\n",
       "      <td>0.0</td>\n",
       "      <td>0.672414</td>\n",
       "      <td>0.058649</td>\n",
       "    </tr>\n",
       "  </tbody>\n",
       "</table>\n",
       "</div>"
      ],
      "text/plain": [
       "   job_blue-collar  job_entrepreneur  job_housemaid  job_management  \\\n",
       "0              0.0               0.0            0.0             0.0   \n",
       "1              0.0               0.0            0.0             0.0   \n",
       "2              0.0               0.0            0.0             1.0   \n",
       "3              0.0               0.0            0.0             1.0   \n",
       "4              1.0               0.0            0.0             0.0   \n",
       "\n",
       "   job_retired  job_self-employed  job_services  job_student  job_technician  \\\n",
       "0          0.0                0.0           0.0          0.0             0.0   \n",
       "1          0.0                0.0           1.0          0.0             0.0   \n",
       "2          0.0                0.0           0.0          0.0             0.0   \n",
       "3          0.0                0.0           0.0          0.0             0.0   \n",
       "4          0.0                0.0           0.0          0.0             0.0   \n",
       "\n",
       "   job_unemployed  job_unknown  marital_married  marital_single  \\\n",
       "0             1.0          0.0              1.0             0.0   \n",
       "1             0.0          0.0              1.0             0.0   \n",
       "2             0.0          0.0              0.0             1.0   \n",
       "3             0.0          0.0              1.0             0.0   \n",
       "4             0.0          0.0              1.0             0.0   \n",
       "\n",
       "   education_secondary  education_tertiary  education_unknown  default_yes  \\\n",
       "0                  0.0                 0.0                0.0          0.0   \n",
       "1                  1.0                 0.0                0.0          0.0   \n",
       "2                  0.0                 1.0                0.0          0.0   \n",
       "3                  0.0                 1.0                0.0          0.0   \n",
       "4                  1.0                 0.0                0.0          0.0   \n",
       "\n",
       "   housing_yes  loan_yes  y_yes       age   balance  \n",
       "0          0.0       0.0    0.0  0.172414  0.121033  \n",
       "1          1.0       1.0    0.0  0.224138  0.225833  \n",
       "2          1.0       0.0    0.0  0.258621  0.105778  \n",
       "3          1.0       1.0    0.0  0.172414  0.110176  \n",
       "4          1.0       0.0    0.0  0.672414  0.058649  "
      ]
     },
     "execution_count": 220,
     "metadata": {},
     "output_type": "execute_result"
    }
   ],
   "source": [
    "df_encoded.head()"
   ]
  },
  {
   "cell_type": "code",
   "execution_count": 221,
   "id": "2a8a9577",
   "metadata": {
    "scrolled": false
   },
   "outputs": [
    {
     "data": {
      "text/plain": [
       "<AxesSubplot:>"
      ]
     },
     "execution_count": 221,
     "metadata": {},
     "output_type": "execute_result"
    },
    {
     "data": {
      "image/png": "[encoded data removed]",
      "text/plain": [
       "<Figure size 1440x720 with 2 Axes>"
      ]
     },
     "metadata": {
      "needs_background": "light"
     },
     "output_type": "display_data"
    }
   ],
   "source": [
    "# Тепловая карта\n",
    "fig_two = plt.figure(figsize=(20,10)) \n",
    "sns.heatmap(df_encoded, cmap = 'viridis')"
   ]
  },
  {
   "cell_type": "code",
   "execution_count": 223,
   "id": "f10168ef",
   "metadata": {},
   "outputs": [
    {
     "name": "stderr",
     "output_type": "stream",
     "text": [
      "C:\\Users\\whati\\anaconda3\\lib\\site-packages\\sklearn\\cluster\\_kmeans.py:881: UserWarning: KMeans is known to have a memory leak on Windows with MKL, when there are less chunks than available threads. You can avoid it by setting the environment variable OMP_NUM_THREADS=2.\n",
      "  warnings.warn(\n"
     ]
    },
    {
     "data": {
      "image/png": "[encoded data removed]",
      "text/plain": [
       "<Figure size 1152x576 with 1 Axes>"
      ]
     },
     "metadata": {
      "needs_background": "light"
     },
     "output_type": "display_data"
    }
   ],
   "source": [
    "# Строим каменистую осыпь\n",
    "K = range(1, 26)\n",
    "models = [KMeans(n_clusters=k, random_state=42, n_init=100, verbose=0).fit(df_encoded) for k in K]\n",
    "\n",
    "dist = [model.inertia_ for model in models]\n",
    "\n",
    "fig_three = plt.figure(figsize=(16,8))\n",
    "plt.plot(K, dist, marker='o')\n",
    "\n",
    "plt.xlabel('Число кластеров')\n",
    "plt.ylabel('Качество кластеризации')\n",
    "plt.title('Каменистая осыпь. Ищем оптимальное k')\n",
    "plt.show()"
   ]
  },
  {
   "cell_type": "markdown",
   "id": "6d8b90fc",
   "metadata": {},
   "source": [
    "После 5 кластеров происходит незначительное сокращение межкластерного расстояния"
   ]
  },
  {
   "cell_type": "code",
   "execution_count": 237,
   "id": "59d5bd1e",
   "metadata": {},
   "outputs": [],
   "source": [
    "km_clust = KMeans(n_clusters=5, random_state = 10, max_iter= 500, n_init=10, \n",
    "               verbose=0, tol=0.0001 )"
   ]
  },
  {
   "cell_type": "code",
   "execution_count": 238,
   "id": "94c148e4",
   "metadata": {},
   "outputs": [],
   "source": [
    "cluster_labels = km_clust.fit_predict(df_encoded)"
   ]
  },
  {
   "cell_type": "code",
   "execution_count": 239,
   "id": "c2e6156d",
   "metadata": {},
   "outputs": [],
   "source": [
    "df_copy_2 = df_encoded.copy()"
   ]
  },
  {
   "cell_type": "code",
   "execution_count": 240,
   "id": "b0ddcfb3",
   "metadata": {},
   "outputs": [],
   "source": [
    "df_copy_2['cluster'] = cluster_labels"
   ]
  },
  {
   "cell_type": "code",
   "execution_count": 241,
   "id": "9395407b",
   "metadata": {},
   "outputs": [],
   "source": [
    "df_copy_2[['age', 'balance']] = df[['age', 'balance']].copy(deep=True)"
   ]
  },
  {
   "cell_type": "code",
   "execution_count": 242,
   "id": "ad8c0f56",
   "metadata": {},
   "outputs": [
    {
     "data": {
      "text/html": [
       "<div>\n",
       "<style scoped>\n",
       "    .dataframe tbody tr th:only-of-type {\n",
       "        vertical-align: middle;\n",
       "    }\n",
       "\n",
       "    .dataframe tbody tr th {\n",
       "        vertical-align: top;\n",
       "    }\n",
       "\n",
       "    .dataframe thead th {\n",
       "        text-align: right;\n",
       "    }\n",
       "</style>\n",
       "<table border=\"1\" class=\"dataframe\">\n",
       "  <thead>\n",
       "    <tr style=\"text-align: right;\">\n",
       "      <th></th>\n",
       "      <th>job_blue-collar</th>\n",
       "      <th>job_entrepreneur</th>\n",
       "      <th>job_housemaid</th>\n",
       "      <th>job_management</th>\n",
       "      <th>job_retired</th>\n",
       "      <th>job_self-employed</th>\n",
       "      <th>job_services</th>\n",
       "      <th>job_student</th>\n",
       "      <th>job_technician</th>\n",
       "      <th>job_unemployed</th>\n",
       "      <th>job_unknown</th>\n",
       "      <th>marital_married</th>\n",
       "      <th>marital_single</th>\n",
       "      <th>education_secondary</th>\n",
       "      <th>education_tertiary</th>\n",
       "      <th>education_unknown</th>\n",
       "      <th>default_yes</th>\n",
       "      <th>housing_yes</th>\n",
       "      <th>loan_yes</th>\n",
       "      <th>y_yes</th>\n",
       "      <th>age</th>\n",
       "      <th>balance</th>\n",
       "    </tr>\n",
       "    <tr>\n",
       "      <th>cluster</th>\n",
       "      <th></th>\n",
       "      <th></th>\n",
       "      <th></th>\n",
       "      <th></th>\n",
       "      <th></th>\n",
       "      <th></th>\n",
       "      <th></th>\n",
       "      <th></th>\n",
       "      <th></th>\n",
       "      <th></th>\n",
       "      <th></th>\n",
       "      <th></th>\n",
       "      <th></th>\n",
       "      <th></th>\n",
       "      <th></th>\n",
       "      <th></th>\n",
       "      <th></th>\n",
       "      <th></th>\n",
       "      <th></th>\n",
       "      <th></th>\n",
       "      <th></th>\n",
       "      <th></th>\n",
       "    </tr>\n",
       "  </thead>\n",
       "  <tbody>\n",
       "    <tr>\n",
       "      <th>0</th>\n",
       "      <td>0.200000</td>\n",
       "      <td>0.014286</td>\n",
       "      <td>0.014286</td>\n",
       "      <td>0.028571</td>\n",
       "      <td>0.014286</td>\n",
       "      <td>0.042857</td>\n",
       "      <td>0.157143</td>\n",
       "      <td>0.071429</td>\n",
       "      <td>0.242857</td>\n",
       "      <td>0.057143</td>\n",
       "      <td>0.000000</td>\n",
       "      <td>0.000000</td>\n",
       "      <td>1.000000</td>\n",
       "      <td>0.885714</td>\n",
       "      <td>0.000000</td>\n",
       "      <td>0.028571</td>\n",
       "      <td>0.028571</td>\n",
       "      <td>0.500000</td>\n",
       "      <td>0.242857</td>\n",
       "      <td>0.157143</td>\n",
       "      <td>33.371429</td>\n",
       "      <td>1702.628571</td>\n",
       "    </tr>\n",
       "    <tr>\n",
       "      <th>1</th>\n",
       "      <td>0.000000</td>\n",
       "      <td>0.028571</td>\n",
       "      <td>0.009524</td>\n",
       "      <td>0.104762</td>\n",
       "      <td>0.076190</td>\n",
       "      <td>0.047619</td>\n",
       "      <td>0.133333</td>\n",
       "      <td>0.000000</td>\n",
       "      <td>0.342857</td>\n",
       "      <td>0.009524</td>\n",
       "      <td>0.009524</td>\n",
       "      <td>0.847619</td>\n",
       "      <td>0.000000</td>\n",
       "      <td>1.000000</td>\n",
       "      <td>0.000000</td>\n",
       "      <td>0.000000</td>\n",
       "      <td>0.019048</td>\n",
       "      <td>0.533333</td>\n",
       "      <td>0.209524</td>\n",
       "      <td>0.076190</td>\n",
       "      <td>43.361905</td>\n",
       "      <td>1462.485714</td>\n",
       "    </tr>\n",
       "    <tr>\n",
       "      <th>2</th>\n",
       "      <td>0.010417</td>\n",
       "      <td>0.093750</td>\n",
       "      <td>0.062500</td>\n",
       "      <td>0.354167</td>\n",
       "      <td>0.104167</td>\n",
       "      <td>0.093750</td>\n",
       "      <td>0.031250</td>\n",
       "      <td>0.000000</td>\n",
       "      <td>0.114583</td>\n",
       "      <td>0.041667</td>\n",
       "      <td>0.010417</td>\n",
       "      <td>0.843750</td>\n",
       "      <td>0.000000</td>\n",
       "      <td>0.000000</td>\n",
       "      <td>0.635417</td>\n",
       "      <td>0.114583</td>\n",
       "      <td>0.031250</td>\n",
       "      <td>0.520833</td>\n",
       "      <td>0.125000</td>\n",
       "      <td>0.156250</td>\n",
       "      <td>44.937500</td>\n",
       "      <td>1648.302083</td>\n",
       "    </tr>\n",
       "    <tr>\n",
       "      <th>3</th>\n",
       "      <td>1.000000</td>\n",
       "      <td>0.000000</td>\n",
       "      <td>0.000000</td>\n",
       "      <td>0.000000</td>\n",
       "      <td>0.000000</td>\n",
       "      <td>0.000000</td>\n",
       "      <td>0.000000</td>\n",
       "      <td>0.000000</td>\n",
       "      <td>0.000000</td>\n",
       "      <td>0.000000</td>\n",
       "      <td>0.000000</td>\n",
       "      <td>0.838235</td>\n",
       "      <td>0.000000</td>\n",
       "      <td>0.514706</td>\n",
       "      <td>0.000000</td>\n",
       "      <td>0.044118</td>\n",
       "      <td>0.014706</td>\n",
       "      <td>0.647059</td>\n",
       "      <td>0.161765</td>\n",
       "      <td>0.058824</td>\n",
       "      <td>42.000000</td>\n",
       "      <td>1398.264706</td>\n",
       "    </tr>\n",
       "    <tr>\n",
       "      <th>4</th>\n",
       "      <td>0.016949</td>\n",
       "      <td>0.000000</td>\n",
       "      <td>0.000000</td>\n",
       "      <td>0.627119</td>\n",
       "      <td>0.000000</td>\n",
       "      <td>0.033898</td>\n",
       "      <td>0.016949</td>\n",
       "      <td>0.016949</td>\n",
       "      <td>0.237288</td>\n",
       "      <td>0.000000</td>\n",
       "      <td>0.016949</td>\n",
       "      <td>0.000000</td>\n",
       "      <td>0.830508</td>\n",
       "      <td>0.000000</td>\n",
       "      <td>1.000000</td>\n",
       "      <td>0.000000</td>\n",
       "      <td>0.016949</td>\n",
       "      <td>0.491525</td>\n",
       "      <td>0.135593</td>\n",
       "      <td>0.152542</td>\n",
       "      <td>35.762712</td>\n",
       "      <td>1898.254237</td>\n",
       "    </tr>\n",
       "  </tbody>\n",
       "</table>\n",
       "</div>"
      ],
      "text/plain": [
       "         job_blue-collar  job_entrepreneur  job_housemaid  job_management  \\\n",
       "cluster                                                                     \n",
       "0               0.200000          0.014286       0.014286        0.028571   \n",
       "1               0.000000          0.028571       0.009524        0.104762   \n",
       "2               0.010417          0.093750       0.062500        0.354167   \n",
       "3               1.000000          0.000000       0.000000        0.000000   \n",
       "4               0.016949          0.000000       0.000000        0.627119   \n",
       "\n",
       "         job_retired  job_self-employed  job_services  job_student  \\\n",
       "cluster                                                              \n",
       "0           0.014286           0.042857      0.157143     0.071429   \n",
       "1           0.076190           0.047619      0.133333     0.000000   \n",
       "2           0.104167           0.093750      0.031250     0.000000   \n",
       "3           0.000000           0.000000      0.000000     0.000000   \n",
       "4           0.000000           0.033898      0.016949     0.016949   \n",
       "\n",
       "         job_technician  job_unemployed  job_unknown  marital_married  \\\n",
       "cluster                                                                 \n",
       "0              0.242857        0.057143     0.000000         0.000000   \n",
       "1              0.342857        0.009524     0.009524         0.847619   \n",
       "2              0.114583        0.041667     0.010417         0.843750   \n",
       "3              0.000000        0.000000     0.000000         0.838235   \n",
       "4              0.237288        0.000000     0.016949         0.000000   \n",
       "\n",
       "         marital_single  education_secondary  education_tertiary  \\\n",
       "cluster                                                            \n",
       "0              1.000000             0.885714            0.000000   \n",
       "1              0.000000             1.000000            0.000000   \n",
       "2              0.000000             0.000000            0.635417   \n",
       "3              0.000000             0.514706            0.000000   \n",
       "4              0.830508             0.000000            1.000000   \n",
       "\n",
       "         education_unknown  default_yes  housing_yes  loan_yes     y_yes  \\\n",
       "cluster                                                                    \n",
       "0                 0.028571     0.028571     0.500000  0.242857  0.157143   \n",
       "1                 0.000000     0.019048     0.533333  0.209524  0.076190   \n",
       "2                 0.114583     0.031250     0.520833  0.125000  0.156250   \n",
       "3                 0.044118     0.014706     0.647059  0.161765  0.058824   \n",
       "4                 0.000000     0.016949     0.491525  0.135593  0.152542   \n",
       "\n",
       "               age      balance  \n",
       "cluster                          \n",
       "0        33.371429  1702.628571  \n",
       "1        43.361905  1462.485714  \n",
       "2        44.937500  1648.302083  \n",
       "3        42.000000  1398.264706  \n",
       "4        35.762712  1898.254237  "
      ]
     },
     "execution_count": 242,
     "metadata": {},
     "output_type": "execute_result"
    }
   ],
   "source": [
    "pd.set_option('display.max_rows', None)\n",
    "pd.set_option('display.max_columns', None)\n",
    "df_copy_2.groupby('cluster').mean()"
   ]
  },
  {
   "cell_type": "code",
   "execution_count": 243,
   "id": "8d9b3a3d",
   "metadata": {},
   "outputs": [
    {
     "data": {
      "text/plain": [
       "0     70\n",
       "1    105\n",
       "2     96\n",
       "3     68\n",
       "4     59\n",
       "Name: cluster, dtype: int64"
      ]
     },
     "execution_count": 243,
     "metadata": {},
     "output_type": "execute_result"
    }
   ],
   "source": [
    "# Кол-во наблюдений по кластерам\n",
    "df_copy_2['cluster'].value_counts().sort_index()"
   ]
  },
  {
   "cell_type": "markdown",
   "id": "6ba4f929",
   "metadata": {},
   "source": [
    "## Интерпретация\n",
    "### Кластер 1 (Молодые люди с приличным балансом)\n",
    "* Средний возраст: 33, Средний баланс: 1700.\n",
    "* Профессии: Технические специалисты, работники сферы услуг, и рабочие.\n",
    "* Семейное положение: Все одиноки.\n",
    "* Образование: Преимущественно среднее.\n",
    "* Дефолт: Небольшой процент (3%) имели дефолт.\n",
    "* Недвижимость: У половины есть дом.\n",
    "* Кредитная история: 24% брали кредиты.\n",
    "* Одобренный кредит: 16% одобрили кредит.\n",
    "\n",
    "\n",
    "### Кластер 2 (Технические специалисты с балансом ниже среднего)\n",
    "* Средний возраст: 43, Средний баланс: 1462.\n",
    "* Профессии: Технические специалисты.\n",
    "* Семейное положение: В основном женаты/замужем.\n",
    "* Образование: среднее.\n",
    "* Дефолт: Небольшой процент (2%) имел дефолт.\n",
    "* Недвижимость: 53% имеют дом.\n",
    "* Кредитная история: 21% брали кредиты.\n",
    "* Одобренный кредит: 8% одобрили кредит.\n",
    "\n",
    "\n",
    "### Кластер 3 (Женатые люди со средним балансом)\n",
    "* Средний возраст: 45, Средний баланс: 1648.\n",
    "* Профессии: Менеджеры и технические специалисты.\n",
    "* Семейное положение: Почти все женаты/замужем.\n",
    "* Образование: Большинство имеют высшее образование.\n",
    "* Дефолт: Некоторые (3%) имели дефолт.\n",
    "* Недвижимость: 52% имеют дом.\n",
    "* Кредитная история: 13% брали кредиты.\n",
    "* Одобренный кредит: 16% одобрили кредит.\n",
    "\n",
    "\n",
    "### Кластер 4 (Пролетарии)\n",
    "* Средний возраст: 42, Средний баланс: 1398.\n",
    "* Профессии: Рабочие.\n",
    "* Семейное положение: В основном женаты/замужем.\n",
    "* Образование: В основном среднее.\n",
    "* Дефолт: Некоторые (1.5%) имели дефолт.\n",
    "* Недвижимость: Большинство (65%) имеют дом.\n",
    "* Кредитная история: 16% брали кредиты.\n",
    "* Одобренный кредит: 6% одобрилии кредит.\n",
    "\n",
    "\n",
    "### Кластер 5 (Молодые Успешные Профессионалы)\n",
    "* Средний возраст: 35, Средний баланс: 1898.\n",
    "* Профессии: Менеджеры и технические специалисты.\n",
    "* Семейное положение: Все одиночки.\n",
    "* Образование: Все высшее.\n",
    "* Дефолт: Некоторые (2%) имели дефолт.\n",
    "* Недвижимость: Почти половина (49%) имеет дом.\n",
    "* Кредитная история: 14% брали кредиты.\n",
    "* Одобренный кредит: 15% одобрили кредит."
   ]
  },
  {
   "cell_type": "markdown",
   "id": "1c8411fb",
   "metadata": {},
   "source": [
    "Качество кластеризации хуже, чем в иерархической кластеризации"
   ]
  }
 ],
 "metadata": {
  "kernelspec": {
   "display_name": "Python 3",
   "language": "python",
   "name": "python3"
  },
  "language_info": {
   "codemirror_mode": {
    "name": "ipython",
    "version": 3
   },
   "file_extension": ".py",
   "mimetype": "text/x-python",
   "name": "python",
   "nbconvert_exporter": "python",
   "pygments_lexer": "ipython3",
   "version": "3.8.8"
  }
 },
 "nbformat": 4,
 "nbformat_minor": 5
}
